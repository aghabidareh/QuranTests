{
 "cells": [
  {
   "cell_type": "code",
   "execution_count": 1,
   "id": "def80830ef6be8cf",
   "metadata": {
    "ExecuteTime": {
     "end_time": "2025-03-11T14:16:34.507944Z",
     "start_time": "2025-03-11T14:16:34.501159Z"
    }
   },
   "outputs": [],
   "source": [
    "import sqlite3\n",
    "import random\n",
    "import re"
   ]
  },
  {
   "cell_type": "code",
   "execution_count": 6,
   "id": "37572e2ff4c4a5dc",
   "metadata": {
    "ExecuteTime": {
     "end_time": "2025-03-11T14:23:52.997079Z",
     "start_time": "2025-03-11T14:23:52.988903Z"
    }
   },
   "outputs": [],
   "source": [
    "def create_question(start, end, count):\n",
    "    conn = sqlite3.connect('Quran')\n",
    "    cursor = conn.cursor()\n",
    "\n",
    "    cursor.execute('SELECT Id, Aye FROM AyeMatn WHERE Id BETWEEN ? AND ?', (start, end))\n",
    "    verses = cursor.fetchall()\n",
    "\n",
    "    if not verses:\n",
    "        return \"هیچ آیهای در این محدوده یافت نشد.\"\n",
    "\n",
    "    all_words = []\n",
    "    for verse in verses:\n",
    "        all_words.extend(verse[1].split())\n",
    "\n",
    "    unique_words = list(set(all_words))\n",
    "    questions = []\n",
    "\n",
    "    def find_similar_words(word):\n",
    "        if len(word) < 3:\n",
    "            return []\n",
    "\n",
    "        first_two = word[:2]\n",
    "        last_two = word[-2:]\n",
    "        middle_part = word[1:-1] if len(word) > 3 else ''  # قسمت میانی\n",
    "\n",
    "        pattern = (\n",
    "            rf\"\\b({first_two}\\w+|\\w+{last_two}|\\w*{middle_part}\\w*)\\b\"\n",
    "        )\n",
    "\n",
    "        return [w for w in unique_words if re.match(pattern, w) and w != word]\n",
    "\n",
    "    for _ in range(count):\n",
    "        verse = random.choice(verses)\n",
    "        verse_id, aye_text = verse\n",
    "        words = aye_text.split()\n",
    "\n",
    "        valid_words = [word for word in words if len(word) > 2]\n",
    "        if not valid_words:\n",
    "            continue\n",
    "\n",
    "        correct_word = random.choice(valid_words)\n",
    "        blank_index = words.index(correct_word)\n",
    "\n",
    "        distractors = find_similar_words(correct_word)\n",
    "\n",
    "        if len(distractors) < 3:\n",
    "            additional_candidates = [\n",
    "                w for w in unique_words if w != correct_word and abs(len(w) - len(correct_word)) <= 1\n",
    "            ]\n",
    "            distractors += random.sample(additional_candidates, min(3 - len(distractors), len(additional_candidates)))\n",
    "\n",
    "        options = distractors[:3] + [correct_word]\n",
    "        random.shuffle(options)\n",
    "\n",
    "        question_text = \" \".join([\"______\" if i == blank_index else word for i, word in enumerate(words)])\n",
    "\n",
    "        questions.append({\n",
    "            \"verse_id\": verse_id,\n",
    "            \"question\": question_text,\n",
    "            \"options\": options,\n",
    "            \"answer\": correct_word\n",
    "        })\n",
    "\n",
    "    conn.close()\n",
    "    return questions"
   ]
  },
  {
   "cell_type": "code",
   "execution_count": 7,
   "id": "a20def379f71c126",
   "metadata": {
    "ExecuteTime": {
     "end_time": "2025-03-11T14:23:59.805258Z",
     "start_time": "2025-03-11T14:23:59.798402Z"
    }
   },
   "outputs": [
    {
     "name": "stdout",
     "output_type": "stream",
     "text": [
      "سوال 1 (آیه 18):\n",
      "وَإِذَا قِيلَ لَهُمْ لَا تُفْسِدُوا فِي الْأَرْضِ قَالُوا إِنَّمَا نَحْنُ ______\n",
      "گزینه‌ها:\n",
      "1. السُّفَهَاءُ\n",
      "2. قُلُوبِهِمْ\n",
      "3. يُخَادِعُونَ\n",
      "4. مُصْلِحُونَ\n",
      "پاسخ صحیح: مُصْلِحُونَ\n",
      "\n",
      "سوال 2 (آیه 12):\n",
      "أُولَـٰئِكَ عَلَىٰ هُدًى مِّن رَّبِّهِمْ ۖ وَأُولَـٰئِكَ ______ الْمُفْلِحُونَ\n",
      "گزینه‌ها:\n",
      "1. هُمُ\n",
      "2. هُدًى\n",
      "3. هُم\n",
      "4. هُمْ\n",
      "پاسخ صحیح: هُمُ\n",
      "\n",
      "سوال 3 (آیه 13):\n",
      "إِنَّ الَّذِينَ كَفَرُوا سَوَاءٌ عَلَيْهِمْ أَأَنذَرْتَهُمْ ______ لَمْ تُنذِرْهُمْ لَا يُؤْمِنُونَ\n",
      "گزینه‌ها:\n",
      "1. أَلَا\n",
      "2. أَأَنذَرْتَهُمْ\n",
      "3. أَمْ\n",
      "4. كَمَا\n",
      "پاسخ صحیح: أَمْ\n",
      "\n",
      "سوال 4 (آیه 10):\n",
      "الَّذِينَ يُؤْمِنُونَ بِالْغَيْبِ وَيُقِيمُونَ الصَّلَاةَ وَمِمَّا رَزَقْنَاهُمْ ______\n",
      "گزینه‌ها:\n",
      "1. يُخَادِعُونَ\n",
      "2. يُؤْمِنُونَ\n",
      "3. يُوقِنُونَ\n",
      "4. يُنفِقُونَ\n",
      "پاسخ صحیح: يُنفِقُونَ\n",
      "\n",
      "سوال 5 (آیه 10):\n",
      "الَّذِينَ يُؤْمِنُونَ بِالْغَيْبِ وَيُقِيمُونَ الصَّلَاةَ ______ رَزَقْنَاهُمْ يُنفِقُونَ\n",
      "گزینه‌ها:\n",
      "1. وَأُولَـٰئِكَ\n",
      "2. وَمِمَّا\n",
      "3. وَإِذَا\n",
      "4. وَيُقِيمُونَ\n",
      "پاسخ صحیح: وَمِمَّا\n",
      "\n"
     ]
    }
   ],
   "source": [
    "questions = create_question(10, 20, 5)\n",
    "for i, q in enumerate(questions, 1):\n",
    "    print(f\"سوال {i} (آیه {q['verse_id']}):\")\n",
    "    print(q['question'])\n",
    "    print(\"گزینه‌ها:\")\n",
    "    for j, opt in enumerate(q['options'], 1):\n",
    "        print(f\"{j}. {opt}\")\n",
    "    print(f\"پاسخ صحیح: {q['answer']}\\n\")"
   ]
  }
 ],
 "metadata": {
  "kernelspec": {
   "display_name": "Python 3 (ipykernel)",
   "language": "python",
   "name": "python3"
  },
  "language_info": {
   "codemirror_mode": {
    "name": "ipython",
    "version": 3
   },
   "file_extension": ".py",
   "mimetype": "text/x-python",
   "name": "python",
   "nbconvert_exporter": "python",
   "pygments_lexer": "ipython3",
   "version": "3.12.7"
  }
 },
 "nbformat": 4,
 "nbformat_minor": 5
}
