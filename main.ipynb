{
 "cells": [
  {
   "metadata": {
    "ExecuteTime": {
     "end_time": "2025-03-11T14:16:34.507944Z",
     "start_time": "2025-03-11T14:16:34.501159Z"
    }
   },
   "cell_type": "code",
   "source": [
    "import sqlite3\n",
    "import random\n",
    "import re"
   ],
   "id": "def80830ef6be8cf",
   "outputs": [],
   "execution_count": 1
  },
  {
   "metadata": {
    "ExecuteTime": {
     "end_time": "2025-03-11T14:16:40.445026Z",
     "start_time": "2025-03-11T14:16:40.435841Z"
    }
   },
   "cell_type": "code",
   "source": [
    "def create_question(start, end, count):\n",
    "    conn = sqlite3.connect('Quran')\n",
    "    cursor = conn.cursor()\n",
    "\n",
    "    cursor.execute('SELECT Id, Aye FROM AyeMatn WHERE Id BETWEEN ? AND ?', (start, end))\n",
    "    verses = cursor.fetchall()\n",
    "\n",
    "    if not verses:\n",
    "        return \"هیچ آیهای در این محدوده یافت نشد.\"\n",
    "\n",
    "    all_words = []\n",
    "    for verse in verses:\n",
    "        all_words.extend(verse[1].split())\n",
    "\n",
    "    unique_words = list(set(all_words))\n",
    "    questions = []\n",
    "\n",
    "    def find_similar_words(word):\n",
    "        pattern = rf\"\\b{word[:2]}\\w*\\b\"\n",
    "        return [w for w in unique_words if re.match(pattern, w) and w != word]\n",
    "\n",
    "    for _ in range(count):\n",
    "        verse = random.choice(verses)\n",
    "        verse_id, aye_text = verse\n",
    "        words = aye_text.split()\n",
    "\n",
    "        valid_words = [word for word in words if len(word) > 2]\n",
    "        if not valid_words:\n",
    "            continue\n",
    "\n",
    "        correct_word = random.choice(valid_words)\n",
    "        blank_index = words.index(correct_word)\n",
    "\n",
    "        distractors = find_similar_words(correct_word)\n",
    "\n",
    "        if len(distractors) < 3:\n",
    "            additional_candidates = [\n",
    "                w for w in unique_words if w != correct_word and abs(len(w) - len(correct_word)) <= 1\n",
    "            ]\n",
    "            distractors += random.sample(additional_candidates, min(3 - len(distractors), len(additional_candidates)))\n",
    "\n",
    "        options = distractors[:3] + [correct_word]\n",
    "        random.shuffle(options)\n",
    "\n",
    "        question_text = \" \".join([\"______\" if i == blank_index else word for i, word in enumerate(words)])\n",
    "\n",
    "        questions.append({\n",
    "            \"verse_id\": verse_id,\n",
    "            \"question\": question_text,\n",
    "            \"options\": options,\n",
    "            \"answer\": correct_word\n",
    "        })\n",
    "\n",
    "    conn.close()\n",
    "    return questions"
   ],
   "id": "37572e2ff4c4a5dc",
   "outputs": [],
   "execution_count": 2
  },
  {
   "metadata": {
    "ExecuteTime": {
     "end_time": "2025-03-11T14:16:46.312483Z",
     "start_time": "2025-03-11T14:16:46.306686Z"
    }
   },
   "cell_type": "code",
   "source": [
    "questions = create_question(10, 20, 5)\n",
    "for i, q in enumerate(questions, 1):\n",
    "    print(f\"سوال {i} (آیه {q['verse_id']}):\")\n",
    "    print(q['question'])\n",
    "    print(\"گزینه‌ها:\")\n",
    "    for j, opt in enumerate(q['options'], 1):\n",
    "        print(f\"{j}. {opt}\")\n",
    "    print(f\"پاسخ صحیح: {q['answer']}\\n\")"
   ],
   "id": "a20def379f71c126",
   "outputs": [
    {
     "name": "stdout",
     "output_type": "stream",
     "text": [
      "سوال 1 (آیه 13):\n",
      "إِنَّ الَّذِينَ كَفَرُوا سَوَاءٌ عَلَيْهِمْ أَأَنذَرْتَهُمْ أَمْ ______ تُنذِرْهُمْ لَا يُؤْمِنُونَ\n",
      "گزینه‌ها:\n",
      "1. لَهُمْ\n",
      "2. لَمْ\n",
      "3. لَّا\n",
      "4. لَا\n",
      "پاسخ صحیح: لَمْ\n",
      "\n",
      "سوال 2 (آیه 10):\n",
      "الَّذِينَ ______ بِالْغَيْبِ وَيُقِيمُونَ الصَّلَاةَ وَمِمَّا رَزَقْنَاهُمْ يُنفِقُونَ\n",
      "گزینه‌ها:\n",
      "1. يُوقِنُونَ\n",
      "2. يُنفِقُونَ\n",
      "3. يُؤْمِنُونَ\n",
      "4. يُخَادِعُونَ\n",
      "پاسخ صحیح: يُؤْمِنُونَ\n",
      "\n",
      "سوال 3 (آیه 12):\n",
      "أُولَـٰئِكَ عَلَىٰ ______ مِّن رَّبِّهِمْ ۖ وَأُولَـٰئِكَ هُمُ الْمُفْلِحُونَ\n",
      "گزینه‌ها:\n",
      "1. هُمُ\n",
      "2. هُدًى\n",
      "3. هُمْ\n",
      "4. هُم\n",
      "پاسخ صحیح: هُدًى\n",
      "\n",
      "سوال 4 (آیه 18):\n",
      "وَإِذَا قِيلَ لَهُمْ لَا تُفْسِدُوا فِي ______ قَالُوا إِنَّمَا نَحْنُ مُصْلِحُونَ\n",
      "گزینه‌ها:\n",
      "1. الْآخِرِ\n",
      "2. النَّاسِ\n",
      "3. النَّاسُ\n",
      "4. الْأَرْضِ\n",
      "پاسخ صحیح: الْأَرْضِ\n",
      "\n",
      "سوال 5 (آیه 16):\n",
      "يُخَادِعُونَ اللَّهَ وَالَّذِينَ آمَنُوا ______ يَخْدَعُونَ إِلَّا أَنفُسَهُمْ وَمَا يَشْعُرُونَ\n",
      "گزینه‌ها:\n",
      "1. وَمَا\n",
      "2. وَلَـٰكِن\n",
      "3. وَعَلَىٰ\n",
      "4. وَلَهُمْ\n",
      "پاسخ صحیح: وَمَا\n",
      "\n"
     ]
    }
   ],
   "execution_count": 3
  }
 ],
 "metadata": {
  "kernelspec": {
   "display_name": "Python 3 (ipykernel)",
   "language": "python",
   "name": "python3"
  },
  "language_info": {
   "codemirror_mode": {
    "name": "ipython",
    "version": 3
   },
   "file_extension": ".py",
   "mimetype": "text/x-python",
   "name": "python",
   "nbconvert_exporter": "python",
   "pygments_lexer": "ipython3",
   "version": "3.12.7"
  }
 },
 "nbformat": 4,
 "nbformat_minor": 5
}
