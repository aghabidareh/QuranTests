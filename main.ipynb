{
 "cells": [
  {
   "cell_type": "code",
   "id": "def80830ef6be8cf",
   "metadata": {
    "ExecuteTime": {
     "end_time": "2025-03-26T06:54:17.916617Z",
     "start_time": "2025-03-26T06:54:17.904510Z"
    }
   },
   "source": [
    "import sqlite3\n",
    "import random\n",
    "import re\n",
    "import pyarabic.araby as ar"
   ],
   "outputs": [],
   "execution_count": 2
  },
  {
   "cell_type": "code",
   "id": "37572e2ff4c4a5dc",
   "metadata": {
    "ExecuteTime": {
     "end_time": "2025-03-26T06:56:05.274938Z",
     "start_time": "2025-03-26T06:56:05.257786Z"
    }
   },
   "source": [
    "def create_question(start, end, count):\n",
    "    conn = sqlite3.connect('Quran')\n",
    "    cursor = conn.cursor()\n",
    "\n",
    "    cursor.execute('SELECT Id, Aye FROM AyeMatn WHERE Id BETWEEN ? AND ?', (start, end))\n",
    "    verses = cursor.fetchall()\n",
    "\n",
    "    if not verses:\n",
    "        return \"هیچ آیهای در این محدوده یافت نشد.\"\n",
    "\n",
    "    all_words = []\n",
    "    for verse in verses:\n",
    "        all_words.extend(verse[1].split())\n",
    "\n",
    "    unique_words = list(set(all_words))\n",
    "    questions = []\n",
    "\n",
    "    def get_root(word):\n",
    "        word = ar.strip_tashkeel(word)\n",
    "        word = word.replace(\"ي\", \"ی\").replace(\"ك\", \"ک\")\n",
    "        word = re.sub(r'^(ال|ب|ف|ك|ل|و|س)', '', word)\n",
    "        word = re.sub(r'(ات|ون|ين|ة|ي|ه|ا)$', '', word)\n",
    "        return word\n",
    "\n",
    "    def find_similar_words(word):\n",
    "        word_root = get_root(word)\n",
    "        pattern = rf\"\\b{word[:2]}\\w*\\b\"\n",
    "        similar_words = [w for w in unique_words if re.match(pattern, w) and w != word]\n",
    "\n",
    "        root_words = [w for w in unique_words if get_root(w) == word_root and w != word]\n",
    "\n",
    "        return list(set(similar_words + root_words))\n",
    "\n",
    "    for _ in range(count):\n",
    "        verse = random.choice(verses)\n",
    "        verse_id, aye_text = verse\n",
    "        words = aye_text.split()\n",
    "\n",
    "        valid_words = [word for word in words if len(word) > 2]\n",
    "        if not valid_words:\n",
    "            continue\n",
    "\n",
    "        correct_word = random.choice(valid_words)\n",
    "        blank_index = words.index(correct_word)\n",
    "\n",
    "        distractors = find_similar_words(correct_word)\n",
    "\n",
    "        if len(distractors) < 3:\n",
    "            additional_candidates = [\n",
    "                w for w in unique_words if w != correct_word and abs(len(w) - len(correct_word)) <= 1\n",
    "            ]\n",
    "            distractors += random.sample(additional_candidates, min(3 - len(distractors), len(additional_candidates)))\n",
    "\n",
    "        options = distractors[:3] + [correct_word]\n",
    "        random.shuffle(options)\n",
    "\n",
    "        question_text = \" \".join([\"______\" if i == blank_index else word for i, word in enumerate(words)])\n",
    "\n",
    "        questions.append({\n",
    "            \"verse_id\": verse_id,\n",
    "            \"question\": question_text,\n",
    "            \"options\": options,\n",
    "            \"answer\": correct_word\n",
    "        })\n",
    "\n",
    "    conn.close()\n",
    "    return questions"
   ],
   "outputs": [],
   "execution_count": 5
  },
  {
   "cell_type": "code",
   "id": "a20def379f71c126",
   "metadata": {
    "ExecuteTime": {
     "end_time": "2025-03-26T06:56:06.090315Z",
     "start_time": "2025-03-26T06:56:06.079580Z"
    }
   },
   "source": [
    "questions = create_question(10, 20, 5)\n",
    "for i, q in enumerate(questions, 1):\n",
    "    print(f\"سوال {i} (آیه {q['verse_id']}):\")\n",
    "    print(q['question'])\n",
    "    print(\"گزینه‌ها:\")\n",
    "    for j, opt in enumerate(q['options'], 1):\n",
    "        print(f\"{j}. {opt}\")\n",
    "    print(f\"پاسخ صحیح: {q['answer']}\\n\")"
   ],
   "outputs": [
    {
     "name": "stdout",
     "output_type": "stream",
     "text": [
      "سوال 1 (آیه 16):\n",
      "يُخَادِعُونَ اللَّهَ وَالَّذِينَ آمَنُوا وَمَا ______ إِلَّا أَنفُسَهُمْ وَمَا يَشْعُرُونَ\n",
      "گزینه‌ها:\n",
      "1. يَعْلَمُونَ\n",
      "2. يَقُولُ\n",
      "3. يَخْدَعُونَ\n",
      "4. يَكْذِبُونَ\n",
      "پاسخ صحیح: يَخْدَعُونَ\n",
      "\n",
      "سوال 2 (آیه 14):\n",
      "خَتَمَ اللَّهُ ______ قُلُوبِهِمْ وَعَلَىٰ سَمْعِهِمْ ۖ وَعَلَىٰ أَبْصَارِهِمْ غِشَاوَةٌ ۖ وَلَهُمْ عَذَابٌ عَظِيمٌ\n",
      "گزینه‌ها:\n",
      "1. عَلَىٰ\n",
      "2. عَلَيْهِمْ\n",
      "3. عَذَابٌ\n",
      "4. عَظِيمٌ\n",
      "پاسخ صحیح: عَلَىٰ\n",
      "\n",
      "سوال 3 (آیه 11):\n",
      "وَالَّذِينَ يُؤْمِنُونَ بِمَا أُنزِلَ ______ وَمَا أُنزِلَ مِن قَبْلِكَ وَبِالْآخِرَةِ هُمْ يُوقِنُونَ\n",
      "گزینه‌ها:\n",
      "1. إِنَّمَا\n",
      "2. إِنَّهُمْ\n",
      "3. إِلَيْكَ\n",
      "4. إِلَّا\n",
      "پاسخ صحیح: إِلَيْكَ\n",
      "\n",
      "سوال 4 (آیه 20):\n",
      "وَإِذَا قِيلَ لَهُمْ آمِنُوا كَمَا آمَنَ ______ قَالُوا أَنُؤْمِنُ كَمَا آمَنَ السُّفَهَاءُ ۗ أَلَا إِنَّهُمْ هُمُ السُّفَهَاءُ وَلَـٰكِن لَّا يَعْلَمُونَ\n",
      "گزینه‌ها:\n",
      "1. الْمُفْلِحُونَ\n",
      "2. اللَّهَ\n",
      "3. النَّاسُ\n",
      "4. اللَّهُ\n",
      "پاسخ صحیح: النَّاسُ\n",
      "\n",
      "سوال 5 (آیه 16):\n",
      "يُخَادِعُونَ اللَّهَ ______ آمَنُوا وَمَا يَخْدَعُونَ إِلَّا أَنفُسَهُمْ وَمَا يَشْعُرُونَ\n",
      "گزینه‌ها:\n",
      "1. وَمَا\n",
      "2. وَالَّذِينَ\n",
      "3. وَبِالْيَوْمِ\n",
      "4. وَأُولَـٰئِكَ\n",
      "پاسخ صحیح: وَالَّذِينَ\n",
      "\n"
     ]
    }
   ],
   "execution_count": 6
  }
 ],
 "metadata": {
  "kernelspec": {
   "display_name": "Python 3 (ipykernel)",
   "language": "python",
   "name": "python3"
  },
  "language_info": {
   "codemirror_mode": {
    "name": "ipython",
    "version": 3
   },
   "file_extension": ".py",
   "mimetype": "text/x-python",
   "name": "python",
   "nbconvert_exporter": "python",
   "pygments_lexer": "ipython3",
   "version": "3.12.7"
  }
 },
 "nbformat": 4,
 "nbformat_minor": 5
}
